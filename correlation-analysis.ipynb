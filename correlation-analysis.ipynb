{
 "cells": [
  {
   "cell_type": "markdown",
   "metadata": {},
   "source": [
    "# Correlation Analysis"
   ]
  },
  {
   "cell_type": "code",
   "execution_count": 33,
   "metadata": {},
   "outputs": [],
   "source": [
    "import os\n",
    "import json\n",
    "import pandas as pd\n",
    "import numpy as np\n",
    "import scipy\n",
    "from scipy.stats import wilcoxon\n",
    "from scipy.spatial import distance\n",
    "import seaborn as sns\n",
    "import matplotlib.pyplot as plt\n",
    "%matplotlib inline\n",
    "\n",
    "pd.options.display.float_format = '{:,.3f}'.format\n"
   ]
  },
  {
   "cell_type": "code",
   "execution_count": 34,
   "metadata": {},
   "outputs": [],
   "source": [
    "shorten_error_model_name = {\n",
    "    \"random\" : \"RND\",\n",
    "    \"error_model_triphone_rich\" : \"TR\",\n",
    "    \"error_model_pure_diversity\" : \"PD\",\n",
    "    \"error_model_without_diversity_enhancing\" : \"IC-WDE\",\n",
    "    \"error_model\" : \"IC\",\n",
    "    \"asrevolve_error_model_real\" : \"ASR-EV\",\n",
    "    \"word_error_predictor_real/no_word_enhance\" : \"NWE\",\n",
    "    \"word_error_predictor_real/word_enhance\": \"WE\"\n",
    "}\n",
    "\n",
    "shorten_finetuned_model_name = {\n",
    "    \"random\": \"RND\",\n",
    "    \"triphone_rich\": \"TR\",\n",
    "    \"pure_diversity\": \"PD\",\n",
    "    \"icassp_without_diversity_enhancing_real_mix\": \"IC-WDE\",\n",
    "    \"icassp_real_mix\": \"IC\",\n",
    "    \"asrevolve_error_model_real\": \"ASR-EV\",\n",
    "    \"word_error_real_mix/no_word_enhance\": \"NWE\",\n",
    "    \"word_error_real_mix/word_enhance\": \"WE\"\n",
    "}\n",
    "\n",
    "def shorten_em_name(tools):\n",
    "    return [shorten_error_model_name[tool] for tool in tools]\n",
    "\n",
    "def shorten_ft_name(tools) :\n",
    "    return [shorten_finetuned_model_name[tool] for tool in tools]\n",
    "\n",
    "tool_short_names = [\"RND\", \"TR\", \"PD\", \"IC-WDE\", \"IC\", \"ASR-EV\", \"NWE\", \"WE\"]\n",
    "\n",
    "\n"
   ]
  },
  {
   "cell_type": "markdown",
   "metadata": {},
   "source": [
    "### The relative improvement of WER after fine-tuning"
   ]
  },
  {
   "cell_type": "code",
   "execution_count": 41,
   "metadata": {},
   "outputs": [],
   "source": [
    "with open('result/RQ2.json', 'r') as f:\n",
    "  data = json.load(f)\n",
    "\n",
    "asrs = [\"quartznet\", \"hubert\", \"wav2vec-base\"]\n",
    "datasets = [\"YBAA\", \"ZHAA\", \"ASI\", \"TNI\", \"NCC\",\n",
    "            \"TXHC\", \"EBVS\", \"ERMS\", \"YDCK\", \"YKWK\", \"THV\", \"TLV\"]\n",
    "tools = [\"random\", \"triphone_rich\", \"pure_diversity\", \"icassp_without_diversity_enhancing_real_mix\", \"icassp_real_mix\",\n",
    "         \"asrevolve_error_model_real\", \"word_error_real_mix/no_word_enhance\", \"word_error_real_mix/word_enhance\"]\n",
    "\n",
    "finetuned_model_performance_on_test_set = {}\n",
    "for asr in asrs:\n",
    "    finetuned_model_performance_on_test_set[asr] = {}\n",
    "    for dataset in datasets:\n",
    "        finetuned_model_performance_on_test_set[asr][dataset] = {}\n",
    "        for tool in tools:\n",
    "            finetuned_model_performance_on_test_set[asr][dataset][shorten_finetuned_model_name[tool]] = pd.read_csv(\n",
    "                data[asr][dataset][tool])\n",
    "\n",
    "# finetuned_model_performance_on_test_set\n"
   ]
  },
  {
   "cell_type": "code",
   "execution_count": 42,
   "metadata": {},
   "outputs": [],
   "source": [
    "with open('result/original.json', 'r') as f:\n",
    "  original_data = json.load(f)\n",
    "\n",
    "original_model_performance_on_test_set = {}\n",
    "\n",
    "for asr in asrs:\n",
    "    original_model_performance_on_test_set[asr] = {}\n",
    "    for dataset in datasets:\n",
    "        original_model_performance_on_test_set[asr][dataset] = original_data[asr][dataset][\"test\"][\"wer\"]\n",
    "\n",
    "# original_model_performance_on_test_set\n",
    "\n"
   ]
  },
  {
   "cell_type": "code",
   "execution_count": 43,
   "metadata": {},
   "outputs": [],
   "source": [
    "relative_improvement_of_finetuned_model = {}\n",
    "for asr in asrs:\n",
    "    relative_improvement_of_finetuned_model[asr] = {}\n",
    "    for dataset in datasets:\n",
    "        relative_improvement_of_finetuned_model[asr][dataset] = {}\n",
    "        for tool in shorten_ft_name(tools):\n",
    "            relative_improvement_of_finetuned_model[asr][dataset][tool] = {}\n",
    "            for metric in [\"WER_Seed1\", \"WER_Seed2\", \"WER_Seed3\", \"WER_Avg\"]:\n",
    "                relative_improvement_of_finetuned_model[asr][dataset][tool][metric] = (\n",
    "                    (original_model_performance_on_test_set[asr][dataset] - finetuned_model_performance_on_test_set[asr][dataset][tool][metric]) / original_model_performance_on_test_set[asr][dataset]).to_list()\n",
    "\n",
    "# relative_improvement_of_finetuned_model\n"
   ]
  },
  {
   "cell_type": "markdown",
   "metadata": {},
   "source": [
    "### 1. Correlation between the original model's WER on the selected samples and the relative improvement of WER after fine-tuning"
   ]
  },
  {
   "cell_type": "code",
   "execution_count": 45,
   "metadata": {},
   "outputs": [],
   "source": [
    "with open('result/RQ1.json', 'r') as f:\n",
    "  rq1_data = json.load(f)\n",
    "\n",
    "\n",
    "original_model_performance_on_selected_samples = {}\n",
    "\n",
    "asrs = [\"quartznet\", \"hubert\", \"wav2vec-base\"]\n",
    "datasets = [\"YBAA\", \"ZHAA\", \"ASI\", \"TNI\", \"NCC\",\n",
    "            \"TXHC\", \"EBVS\", \"ERMS\", \"YDCK\", \"YKWK\", \"THV\", \"TLV\"]\n",
    "tools = [\"random\", \"error_model_triphone_rich\", \"error_model_pure_diversity\", \"error_model_without_diversity_enhancing\", \"error_model\",\n",
    "         \"asrevolve_error_model_real\", \"word_error_predictor_real/no_word_enhance\", \"word_error_predictor_real/word_enhance\"]\n",
    "\n",
    "original_model_performance_on_selected_samples = {}\n",
    "for asr in asrs:\n",
    "    original_model_performance_on_selected_samples[asr] = {}\n",
    "    for dataset in datasets:\n",
    "        original_model_performance_on_selected_samples[asr][dataset] = {}\n",
    "        for tool in tools:\n",
    "            original_model_performance_on_selected_samples[asr][dataset][shorten_error_model_name[tool]] = {}\n",
    "            for metric in [\"WER_Seed1\", \"WER_Seed2\", \"WER_Seed3\", \"WER_Avg\"]:\n",
    "                original_model_performance_on_selected_samples[asr][dataset][shorten_error_model_name[tool]][metric] = pd.read_csv(\n",
    "                  rq1_data[asr][dataset][tool])[metric].tolist()\n",
    "\n",
    "# original_model_performance_on_selected_samples\n"
   ]
  },
  {
   "cell_type": "code",
   "execution_count": 46,
   "metadata": {},
   "outputs": [],
   "source": [
    "arr_1 = []\n",
    "arr_2 = []\n",
    "\n",
    "for asr in asrs:\n",
    "    for dataset in datasets:\n",
    "        for tool in tool_short_names:\n",
    "            for metric in [\"WER_Seed1\", \"WER_Seed2\", \"WER_Seed3\"]:\n",
    "                arr_1.append(original_model_performance_on_selected_samples[asr][dataset][tool][metric])\n",
    "                arr_2.append(relative_improvement_of_finetuned_model[asr][dataset][tool][metric])\n",
    "\n",
    "assert len(arr_1) == len(arr_2)\n",
    "            "
   ]
  }
 ],
 "metadata": {
  "interpreter": {
   "hash": "aee8b7b246df8f9039afb4144a1f6fd8d2ca17a180786b69acc140d282b71a49"
  },
  "kernelspec": {
   "display_name": "Python 3.9.9 64-bit",
   "language": "python",
   "name": "python3"
  },
  "language_info": {
   "codemirror_mode": {
    "name": "ipython",
    "version": 3
   },
   "file_extension": ".py",
   "mimetype": "text/x-python",
   "name": "python",
   "nbconvert_exporter": "python",
   "pygments_lexer": "ipython3",
   "version": "3.9.9"
  },
  "orig_nbformat": 4
 },
 "nbformat": 4,
 "nbformat_minor": 2
}
