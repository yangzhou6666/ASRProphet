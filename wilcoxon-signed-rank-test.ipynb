{
 "cells": [
  {
   "cell_type": "markdown",
   "metadata": {},
   "source": [
    "# Wilcoxon Signed Rank Test"
   ]
  },
  {
   "cell_type": "code",
   "execution_count": 27,
   "metadata": {},
   "outputs": [],
   "source": [
    "import json\n",
    "import pandas as pd\n",
    "import numpy as np\n",
    "import scipy\n",
    "from scipy.stats import wilcoxon\n"
   ]
  },
  {
   "cell_type": "markdown",
   "metadata": {},
   "source": [
    "### Try Wilcoxon"
   ]
  },
  {
   "cell_type": "code",
   "execution_count": 28,
   "metadata": {},
   "outputs": [
    {
     "data": {
      "text/plain": [
       "0.000244140625"
      ]
     },
     "execution_count": 28,
     "metadata": {},
     "output_type": "execute_result"
    }
   ],
   "source": [
    "d = [6, 8, 14, 16, 23, 24, 28, 29, 41, -48, 49, 56, 60, -67, 75]\n",
    "d = [6, 8, 14, 16, 23, 24, 28, 29, 41, 49, 56, 60, 75]\n",
    "w, p = wilcoxon(d, alternative='greater')\n",
    "w, p = wilcoxon(d)\n",
    "p"
   ]
  },
  {
   "cell_type": "markdown",
   "metadata": {},
   "source": [
    "## Analyze"
   ]
  },
  {
   "cell_type": "code",
   "execution_count": 29,
   "metadata": {},
   "outputs": [],
   "source": [
    "with open('result/RQ2.json', 'r') as f:\n",
    "  data = json.load(f)\n"
   ]
  },
  {
   "cell_type": "code",
   "execution_count": 30,
   "metadata": {},
   "outputs": [],
   "source": [
    "res = {}\n",
    "\n",
    "# asrs = [\"quartznet\", \"hubert\", \"wav2vec-base\"]\n",
    "# datasets = [\"YBAA\", \"ZHAA\", \"ASI\", \"TNI\", \"NCC\",\n",
    "#             \"TXHC\", \"EBVS\", \"ERMS\", \"YDCK\", \"YKWK\", \"THV\", \"TLV\"]\n",
    "# tools = [\"random\", \"triphone_rich\", \"pure_diversity\", \"icassp_without_diversity_enhancing_real_mix\", \"icassp_real_mix\",\n",
    "#          \"asrevolve_error_model_real\", \"word_error_real_mix/no_word_enhance\", \"word_error_real_mix/word_enhance\"]\n",
    "\n",
    "\n",
    "asrs = [\"quartznet\"]\n",
    "datasets = [\"YBAA\", \"ZHAA\", \"ASI\", \"TNI\"]\n",
    "tools = [\"random\", \"triphone_rich\", \"pure_diversity\"]\n",
    "\n",
    "res = {}\n",
    "for asr in asrs:\n",
    "    res[asr] = {}\n",
    "    for dataset in datasets:\n",
    "        res[asr][dataset] = {}\n",
    "        for tool in tools:\n",
    "            res[asr][dataset][tool] = pd.read_csv(data[asr][dataset][tool])\n",
    "            \n",
    "# res\n"
   ]
  },
  {
   "cell_type": "code",
   "execution_count": 34,
   "metadata": {},
   "outputs": [],
   "source": [
    "short_names = {\n",
    "    \"random\": \"RND\",\n",
    "    \"triphone_rich\": \"TR\",\n",
    "    \"pure_diversity\": \"PD\",\n",
    "    \"icassp_without_diversity_enhancing_real_mix\": \"IC-WDE\",\n",
    "    \"icassp_real_mix\": \"IC\",\n",
    "    \"asrevolve_error_model_real\": \"ASR-EV\",\n",
    "    \"word_error_real_mix/no_word_enhance\": \"NWE\",\n",
    "    \"word_error_real_mix/word_enhance\": \"WE\",\n",
    "}"
   ]
  },
  {
   "cell_type": "markdown",
   "metadata": {},
   "source": [
    "### 1. Analyze the experiment grouped by \\<ASR Model\\>"
   ]
  },
  {
   "cell_type": "code",
   "execution_count": 35,
   "metadata": {},
   "outputs": [
    {
     "name": "stdout",
     "output_type": "stream",
     "text": [
      "        RND  TR  PD  IC-WDE  IC  ASR-EV  NWE  WE\n",
      "RND       0   0   1       0   0       0    0   1\n",
      "TR        0   0   0       1   0       0    1   1\n",
      "PD        1   0   0       1   1       1    1   1\n",
      "IC-WDE    0   1   1       0   0       0    0   0\n",
      "IC        0   0   1       0   0       0    0   1\n",
      "ASR-EV    0   0   1       0   0       0    0   1\n",
      "NWE       0   1   1       0   0       0    0   0\n",
      "WE        1   1   1       0   1       1    0   0\n",
      "        RND  TR  PD  IC-WDE  IC  ASR-EV  NWE  WE\n",
      "RND       0   0   0       0   1       0    1   0\n",
      "TR        0   0   0       0   1       0    0   0\n",
      "PD        0   0   0       0   1       0    1   0\n",
      "IC-WDE    0   0   0       0   1       0    1   0\n",
      "IC        1   1   1       1   0       1    1   1\n",
      "ASR-EV    0   0   0       0   1       0    1   0\n",
      "NWE       1   0   1       1   1       1    0   1\n",
      "WE        0   0   0       0   1       0    1   0\n",
      "        RND  TR  PD  IC-WDE  IC  ASR-EV  NWE  WE\n",
      "RND       0   1   1       1   1       0    0   1\n",
      "TR        1   0   0       0   0       1    0   0\n",
      "PD        1   0   0       0   0       1    1   0\n",
      "IC-WDE    1   0   0       0   0       1    0   0\n",
      "IC        1   0   0       0   0       1    0   0\n",
      "ASR-EV    0   1   1       1   1       0    0   1\n",
      "NWE       0   0   1       0   0       0    0   0\n",
      "WE        1   0   0       0   0       1    0   0\n"
     ]
    }
   ],
   "source": [
    "def get_wer_result(df):\n",
    "    arr = list(df[\"WER_Seed1\"]) + list(df[\"WER_Seed2\"]) + list(df[\"WER_Seed3\"])\n",
    "    assert len(arr) == 3 * len(df[\"WER_Seed1\"])\n",
    "    assert len(arr) == 3 * len(df[\"WER_Seed2\"])\n",
    "    assert len(arr) == 3 * len(df[\"WER_Seed3\"])\n",
    "    return arr\n",
    "\n",
    "wer_p_value = {}\n",
    "for asr in asrs:\n",
    "    wer_p_value[asr] = pd.DataFrame()\n",
    "\n",
    "    values = {}\n",
    "        \n",
    "    for tool_1 in tools:\n",
    "        values[short_names[tool_1]] = {}\n",
    "        for tool_2 in tools :\n",
    "\n",
    "            if tool_1 == tool_2:\n",
    "                values[short_names[tool_1]][short_names[tool_2]] = 0\n",
    "            else :\n",
    "                arr_1 = []\n",
    "                arr_2 = []\n",
    "                for dataset in datasets :\n",
    "                    arr_1 += get_wer_result(res[asr][dataset][tool_1])\n",
    "                    arr_2 += get_wer_result(res[asr][dataset][tool_2])\n",
    "\n",
    "                w, p = scipy.stats.wilcoxon(arr_1, arr_2)\n",
    "                # we would reject the null hypothesis at a confidence level of 5%\n",
    "                if p < 0.05:\n",
    "                    values[short_names[tool_1]][short_names[tool_2]] = 1\n",
    "                else :\n",
    "                    values[short_names[tool_1]][short_names[tool_2]] = 0\n",
    "    \n",
    "    # print(values)\n",
    "\n",
    "    df = pd.DataFrame(data=values)\n",
    "    print(df)\n",
    "            \n"
   ]
  },
  {
   "cell_type": "code",
   "execution_count": null,
   "metadata": {},
   "outputs": [],
   "source": []
  }
 ],
 "metadata": {
  "interpreter": {
   "hash": "31f2aee4e71d21fbe5cf8b01ff0e069b9275f58929596ceb00d14d90e3e16cd6"
  },
  "kernelspec": {
   "display_name": "Python 3.6.9 64-bit",
   "language": "python",
   "name": "python3"
  },
  "language_info": {
   "codemirror_mode": {
    "name": "ipython",
    "version": 3
   },
   "file_extension": ".py",
   "mimetype": "text/x-python",
   "name": "python",
   "nbconvert_exporter": "python",
   "pygments_lexer": "ipython3",
   "version": "3.9.9"
  },
  "orig_nbformat": 4
 },
 "nbformat": 4,
 "nbformat_minor": 2
}
